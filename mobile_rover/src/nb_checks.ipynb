{
 "cells": [
  {
   "cell_type": "code",
   "execution_count": 1,
   "metadata": {},
   "outputs": [
    {
     "name": "stdout",
     "output_type": "stream",
     "text": [
      "   INFO: mission.py:25 | Loaded 3 waypoints from 'mission.csv'\n",
      "   INFO: mission.py:28 | Waypoint 0: 📍 37.57125784995419, -122.30067882311883\n",
      "   INFO: mission.py:30 | Waypoint 1: ⭐ 37.57126151858967, -122.30078675907264\n",
      "   INFO: mission.py:32 | Waypoint 2: 🏁 37.57134177153459, -122.30069958728515\n",
      "Map saved to mission.html\n"
     ]
    }
   ],
   "source": [
    "from mission import Mission\n",
    "\n",
    "\n",
    "mission = Mission()\n",
    "mission.load_from_file()\n",
    "mission.visualize_mission()\n"
   ]
  },
  {
   "cell_type": "code",
   "execution_count": null,
   "metadata": {},
   "outputs": [],
   "source": []
  },
  {
   "cell_type": "code",
   "execution_count": null,
   "metadata": {},
   "outputs": [],
   "source": []
  },
  {
   "cell_type": "code",
   "execution_count": null,
   "metadata": {},
   "outputs": [],
   "source": []
  }
 ],
 "metadata": {
  "kernelspec": {
   "display_name": "robomagellan",
   "language": "python",
   "name": "python3"
  },
  "language_info": {
   "codemirror_mode": {
    "name": "ipython",
    "version": 3
   },
   "file_extension": ".py",
   "mimetype": "text/x-python",
   "name": "python",
   "nbconvert_exporter": "python",
   "pygments_lexer": "ipython3",
   "version": "3.10.12"
  }
 },
 "nbformat": 4,
 "nbformat_minor": 2
}
