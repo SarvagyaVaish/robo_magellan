{
 "cells": [
  {
   "cell_type": "code",
   "execution_count": null,
   "metadata": {},
   "outputs": [],
   "source": [
    "# Some tests for verifying UTM projections\n",
    "\n",
    "import utm\n",
    "\n",
    "\n",
    "gps_marin = [37.850805, -122.526539]\n",
    "utm_marin = utm.from_latlon(gps_marin[0], gps_marin[1])\n",
    "print(f\"{utm_marin=}\")\n",
    "\n",
    "gps_sjc = [37.215077, -121.922934]\n",
    "utm_sjc = utm.from_latlon(gps_sjc[0], gps_sjc[1])\n",
    "print(f\"{utm_sjc=}\")\n",
    "\n",
    "# Verify that both points are in the same zone number and zone letter.\n",
    "# This is important because the easting and northing values are consistent within a zone.\n",
    "assert utm_marin[2] == utm_sjc[2]\n",
    "assert utm_marin[3] == utm_sjc[3]"
   ]
  },
  {
   "cell_type": "code",
   "execution_count": null,
   "metadata": {},
   "outputs": [],
   "source": [
    "# Check the accuracy of the UTM conversions\n",
    "\n",
    "from scipy.spatial import distance\n",
    "\n",
    "\n",
    "gps_gazebo_1 = [37.571411446583575, -122.30079348755619]\n",
    "gps_gazebo_2 = [37.57141410396187, -122.30070832742533]\n",
    "\n",
    "x1, y1, _, _ = utm.from_latlon(gps_gazebo_1[0], gps_gazebo_1[1])\n",
    "x2, y2, _, _ = utm.from_latlon(gps_gazebo_2[0], gps_gazebo_2[1])\n",
    "\n",
    "xy1 = (x1, y1)\n",
    "xy2 = (x2, y2)\n",
    "\n",
    "actual_dist = 7.57  # Measured as 24'10\"\n",
    "utm_dist = distance.euclidean(xy1, xy2)\n",
    "\n",
    "print(f\"{actual_dist=}\")\n",
    "print(f\"{utm_dist=}\")"
   ]
  },
  {
   "cell_type": "code",
   "execution_count": null,
   "metadata": {},
   "outputs": [],
   "source": []
  }
 ],
 "metadata": {
  "kernelspec": {
   "display_name": "robomagellan",
   "language": "python",
   "name": "python3"
  },
  "language_info": {
   "codemirror_mode": {
    "name": "ipython",
    "version": 3
   },
   "file_extension": ".py",
   "mimetype": "text/x-python",
   "name": "python",
   "nbconvert_exporter": "python",
   "pygments_lexer": "ipython3",
   "version": "3.10.12"
  }
 },
 "nbformat": 4,
 "nbformat_minor": 2
}
